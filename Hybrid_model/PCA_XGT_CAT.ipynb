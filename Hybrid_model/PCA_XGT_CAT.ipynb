{
 "cells": [
  {
   "cell_type": "code",
   "execution_count": 2,
   "metadata": {},
   "outputs": [],
   "source": [
    "import pandas as pd\n",
    "import numpy as np\n",
    "import matplotlib.pyplot as plt\n",
    "import seaborn as sns\n",
    "import datetime as dt\n",
    "import prepro_util\n",
    "import os\n",
    "\n",
    "from sklearn import preprocessing\n",
    "from sklearn.decomposition import PCA\n",
    "from sklearn.metrics import mean_squared_error\n",
    "from sklearn.preprocessing import LabelBinarizer\n",
    "from sklearn.preprocessing import MinMaxScaler\n",
    "from sklearn.model_selection import train_test_split\n",
    "from sklearn.decomposition import PCA\n",
    "from sklearn.model_selection import GridSearchCV\n",
    "from sklearn.impute import SimpleImputer\n",
    "\n",
    "import catboost\n",
    "from catboost import CatBoostRegressor\n",
    "from catboost import Pool, CatBoostClassifier\n",
    "import xgboost as xgb"
   ]
  },
  {
   "cell_type": "code",
   "execution_count": 4,
   "metadata": {},
   "outputs": [],
   "source": [
    "### read train data\n",
    "train = pd.read_csv('../../../../Desktop/wids/train_data.csv')"
   ]
  },
  {
   "cell_type": "code",
   "execution_count": 2,
   "metadata": {},
   "outputs": [],
   "source": [
    "### read test data\n",
    "test = pd.read_csv('../../../../Desktop/wids/test_data.csv')"
   ]
  },
  {
   "cell_type": "markdown",
   "metadata": {},
   "source": [
    "### preprocessing"
   ]
  },
  {
   "cell_type": "code",
   "execution_count": 5,
   "metadata": {},
   "outputs": [],
   "source": [
    "### target column\n",
    "target = 'contest-tmp2m-14d__tmp2m'"
   ]
  },
  {
   "cell_type": "code",
   "execution_count": 6,
   "metadata": {
    "scrolled": false
   },
   "outputs": [
    {
     "name": "stdout",
     "output_type": "stream",
     "text": [
      "index and datetime set\n",
      "categorical data encoded\n",
      "location data handled\n",
      "datetime handled\n"
     ]
    }
   ],
   "source": [
    "### preprocess train data\n",
    "pre_train = prepro_util.preprocess_data(train , 4 , \"mean\" , target)"
   ]
  },
  {
   "cell_type": "markdown",
   "metadata": {},
   "source": [
    "## PCA"
   ]
  },
  {
   "cell_type": "code",
   "execution_count": 13,
   "metadata": {
    "scrolled": true
   },
   "outputs": [],
   "source": [
    "PCA_pre_train = prepro_util.PCA_transform(pre_train , 0.95 , target)"
   ]
  },
  {
   "cell_type": "code",
   "execution_count": null,
   "metadata": {},
   "outputs": [],
   "source": [
    "### split the data\n",
    "X = pre_train[[col for col in pre_train.columns if col != target]]\n",
    "y = pre_train[target]\n",
    "\n",
    "x_train, x_test, y_train, y_test = train_test_split(X, y, test_size = 0.3, random_state = 123)"
   ]
  },
  {
   "cell_type": "markdown",
   "metadata": {},
   "source": [
    "## XGBOOST"
   ]
  },
  {
   "cell_type": "code",
   "execution_count": null,
   "metadata": {},
   "outputs": [],
   "source": [
    "### train the model - XGBoost\n",
    "model_xgb = xgb.XGBRegressor(booster = 'gbtree',\n",
    "                             subsample = 0.8,\n",
    "                             eta = 0.1, \n",
    "                             n_estimaters = 15000,\n",
    "                             colsample_bytree = 0.4,\n",
    "                             max_depth = 5,\n",
    "                             tree_method = 'hist',\n",
    "                             eval_metric = 'rmse', \n",
    "                             objective = 'reg:squarederror')\n",
    "\n",
    "model_xgb.fit(x_train, y_train, eval_set = [(x_train, y_train), (x_test, y_test)], verbose = 100)"
   ]
  },
  {
   "cell_type": "code",
   "execution_count": null,
   "metadata": {},
   "outputs": [],
   "source": [
    "### use RMSE to evaluate\n",
    "y_pred_xgb = model_xgb.predict(x_test)\n",
    "mse = mean_squared_error(y_pred_xgb, y_test)\n",
    "\n",
    "print(\"XGboost MSE : \" ,mse)\n",
    "\n",
    "\n",
    "try:\n",
    "    os.makedirs('models')\n",
    "except:\n",
    "    pass\n",
    "\n",
    "### save model\n",
    "model_xgb.save_model(\"./models/PCA_95_xgb_md_5.json\")"
   ]
  },
  {
   "cell_type": "markdown",
   "metadata": {},
   "source": [
    "## CAT"
   ]
  },
  {
   "cell_type": "code",
   "execution_count": null,
   "metadata": {},
   "outputs": [],
   "source": [
    "### train the model - CatBoost\n",
    "model_cat = CatBoostRegressor(n_estimators = 15000,\n",
    "                              eval_metric = 'RMSE',\n",
    "                              learning_rate = 0.1, \n",
    "                              verbose = 1,\n",
    "                              random_seed = 0).fit(x_train, y_train)\n",
    "\n",
    "model_cat.fit(x_train, y_train, eval_set = [(x_train, y_train), (x_test, y_test)], verbose = 50)\n",
    "\n",
    "### save model\n",
    "model_cat.save_model(\"./models/PCA_95_cat.json\")"
   ]
  },
  {
   "cell_type": "code",
   "execution_count": null,
   "metadata": {},
   "outputs": [],
   "source": [
    "### use RMSE to evaluate\n",
    "y_pred_cat = model_cat.predict(x_test)\n",
    "mean_squared_error(y_pred_cat, y_test)\n",
    "\n",
    "print(\"CATboost MSE : \", mean_squared_error)"
   ]
  },
  {
   "cell_type": "code",
   "execution_count": null,
   "metadata": {},
   "outputs": [],
   "source": [
    "### ensemble the results\n",
    "result = model_xgb.predict(X_test) * 0.2 + model_cat.predict(X_test) * 0.8\n",
    "result"
   ]
  },
  {
   "cell_type": "code",
   "execution_count": null,
   "metadata": {},
   "outputs": [],
   "source": []
  },
  {
   "cell_type": "markdown",
   "metadata": {},
   "source": [
    "## Predict"
   ]
  },
  {
   "cell_type": "code",
   "execution_count": 65,
   "metadata": {
    "scrolled": false
   },
   "outputs": [
    {
     "name": "stdout",
     "output_type": "stream",
     "text": [
      "index and datetime set\n",
      "categorical data encoded\n",
      "location data handled\n",
      "datetime handled\n"
     ]
    }
   ],
   "source": [
    "### test data\n",
    "pre_test = prepro_util.preprocess_data(test , 4 , \"mean\" , target)\n",
    "\n",
    "### PCA\n",
    "n_components = 49\n",
    "component_name_list = []\n",
    "for i in range(1 , n_components + 1):\n",
    "    component_name_list.append(f\"component {i}\")\n",
    "    \n",
    "pca = PCA(n_components = 49)\n",
    "PCA_pre_test = pca.fit_transform(pre_test)\n",
    "PCA_pre_test = pd.DataFrame(PCA_pre_test , columns = component_name_list)"
   ]
  },
  {
   "cell_type": "markdown",
   "metadata": {},
   "source": [
    "### Models import"
   ]
  },
  {
   "cell_type": "code",
   "execution_count": 62,
   "metadata": {},
   "outputs": [],
   "source": [
    "### XGboost\n",
    "xgb_model = xgb.Booster()\n",
    "xgb_model.load_model(\"./models/PCA_95_xgb_md_5.json\")\n",
    "\n",
    "### CATboost\n",
    "cat_model = catboost.CatBoostClassifier()\n",
    "cat_model = cat_model.load_model(\"./models/PCA_95_cat.json\")"
   ]
  },
  {
   "cell_type": "code",
   "execution_count": 66,
   "metadata": {},
   "outputs": [],
   "source": [
    "### Xgboost calculation\n",
    "test_dataset = xgb.DMatrix(PCA_pre_test)\n",
    "xgb_predict_y = xgb_model.predict(test_dataset)"
   ]
  },
  {
   "cell_type": "code",
   "execution_count": 67,
   "metadata": {},
   "outputs": [],
   "source": [
    "### CATboost calculation\n",
    "cat_predict_y = cat_model.predict(PCA_pre_test , prediction_type = 'RawFormulaVal')"
   ]
  },
  {
   "cell_type": "code",
   "execution_count": 75,
   "metadata": {},
   "outputs": [],
   "source": [
    "### combine \n",
    "combine = xgb_predict_y"
   ]
  },
  {
   "cell_type": "code",
   "execution_count": 76,
   "metadata": {},
   "outputs": [],
   "source": [
    "result = test.copy()\n",
    "result[target] = combine\n",
    "result = result.reset_index()\n",
    "\n",
    "result = pd.DataFrame(result[['index' , target]] , columns = ['index' , target])"
   ]
  },
  {
   "cell_type": "code",
   "execution_count": null,
   "metadata": {},
   "outputs": [],
   "source": []
  },
  {
   "cell_type": "code",
   "execution_count": 77,
   "metadata": {},
   "outputs": [],
   "source": [
    "### create directory\n",
    "try:\n",
    "    os.makedirs(\"output\")\n",
    "except:\n",
    "    pass\n",
    "\n",
    "result.to_csv(\"./output/PCA_95_xgb_only.csv\" , index = False)"
   ]
  }
 ],
 "metadata": {
  "kernelspec": {
   "display_name": "Python 3 (ipykernel)",
   "language": "python",
   "name": "python3"
  },
  "language_info": {
   "codemirror_mode": {
    "name": "ipython",
    "version": 3
   },
   "file_extension": ".py",
   "mimetype": "text/x-python",
   "name": "python",
   "nbconvert_exporter": "python",
   "pygments_lexer": "ipython3",
   "version": "3.9.6"
  }
 },
 "nbformat": 4,
 "nbformat_minor": 2
}
