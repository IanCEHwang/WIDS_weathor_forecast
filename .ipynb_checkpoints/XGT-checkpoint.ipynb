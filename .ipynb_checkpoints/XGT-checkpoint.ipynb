{
 "cells": [
  {
   "cell_type": "code",
   "execution_count": 1,
   "metadata": {},
   "outputs": [],
   "source": [
    "import pandas as pd\n",
    "import numpy as np\n",
    "import matplotlib.pyplot as plt\n",
    "import seaborn as sns\n",
    "import datetime as dt\n",
    "\n",
    "from sklearn import preprocessing\n",
    "from sklearn.metrics import mean_squared_error\n",
    "from sklearn.preprocessing import LabelBinarizer\n",
    "from sklearn.preprocessing import MinMaxScaler\n",
    "from sklearn.model_selection import train_test_split\n",
    "from sklearn.decomposition import PCA\n",
    "from sklearn.model_selection import GridSearchCV\n",
    "from sklearn.impute import SimpleImputer\n",
    "\n",
    "from catboost import CatBoostRegressor\n",
    "from catboost import Pool, CatBoostClassifier\n",
    "import xgboost as xgb"
   ]
  },
  {
   "cell_type": "code",
   "execution_count": 2,
   "metadata": {},
   "outputs": [
    {
     "name": "stdout",
     "output_type": "stream",
     "text": [
      "(375734, 246)\n",
      "(31354, 245)\n"
     ]
    }
   ],
   "source": [
    "### read test and train data\n",
    "a = pd.read_csv('../../../Desktop/wids/train_data.csv')\n",
    "train = pd.read_csv('../../../Desktop/wisd/train_data.csv')\n",
    "#test = pd.read_csv('../../../Desktop/wisd/test_data.csv')\n",
    "\n",
    "print(train.shape)\n",
    "#print(test.shape)"
   ]
  },
  {
   "cell_type": "markdown",
   "metadata": {},
   "source": [
    "## Data preparation"
   ]
  },
  {
   "cell_type": "code",
   "execution_count": 3,
   "metadata": {
    "scrolled": false
   },
   "outputs": [
    {
     "data": {
      "text/html": [
       "<div>\n",
       "<style scoped>\n",
       "    .dataframe tbody tr th:only-of-type {\n",
       "        vertical-align: middle;\n",
       "    }\n",
       "\n",
       "    .dataframe tbody tr th {\n",
       "        vertical-align: top;\n",
       "    }\n",
       "\n",
       "    .dataframe thead th {\n",
       "        text-align: right;\n",
       "    }\n",
       "</style>\n",
       "<table border=\"1\" class=\"dataframe\">\n",
       "  <thead>\n",
       "    <tr style=\"text-align: right;\">\n",
       "      <th></th>\n",
       "      <th>startdate</th>\n",
       "      <th>climateregions__climateregion</th>\n",
       "    </tr>\n",
       "  </thead>\n",
       "  <tbody>\n",
       "    <tr>\n",
       "      <th>0</th>\n",
       "      <td>9/1/14</td>\n",
       "      <td>BSh</td>\n",
       "    </tr>\n",
       "    <tr>\n",
       "      <th>1</th>\n",
       "      <td>9/2/14</td>\n",
       "      <td>BSh</td>\n",
       "    </tr>\n",
       "    <tr>\n",
       "      <th>2</th>\n",
       "      <td>9/3/14</td>\n",
       "      <td>BSh</td>\n",
       "    </tr>\n",
       "    <tr>\n",
       "      <th>3</th>\n",
       "      <td>9/4/14</td>\n",
       "      <td>BSh</td>\n",
       "    </tr>\n",
       "    <tr>\n",
       "      <th>4</th>\n",
       "      <td>9/5/14</td>\n",
       "      <td>BSh</td>\n",
       "    </tr>\n",
       "  </tbody>\n",
       "</table>\n",
       "</div>"
      ],
      "text/plain": [
       "  startdate climateregions__climateregion\n",
       "0    9/1/14                           BSh\n",
       "1    9/2/14                           BSh\n",
       "2    9/3/14                           BSh\n",
       "3    9/4/14                           BSh\n",
       "4    9/5/14                           BSh"
      ]
     },
     "execution_count": 3,
     "metadata": {},
     "output_type": "execute_result"
    }
   ],
   "source": [
    "### check dtypes\n",
    "set(train.dtypes)\n",
    "\n",
    "### check categorical columns\n",
    "train[[col for col in train.columns if train[col].dtypes == \"O\"]].head()"
   ]
  },
  {
   "cell_type": "markdown",
   "metadata": {},
   "source": [
    "**Categorical data:** \\\n",
    "    1. startdate\\\n",
    "    2. climateregions__climateregion"
   ]
  },
  {
   "cell_type": "code",
   "execution_count": 32,
   "metadata": {},
   "outputs": [],
   "source": [
    "### set index\n",
    "def set_index_and_to_dt(dataset):\n",
    "    dataset = dataset.set_index('index')\n",
    "    dataset['startdate'] = pd.to_datetime(dataset['startdate'] , format = '%m/%d/%y')\n",
    "    print('index and datetime set')\n",
    "    return dataset\n",
    "\n",
    "### categorical data encoding (\"climate regions\")\n",
    "def encode_categorical_data(dataset):\n",
    "    encode = preprocessing.LabelEncoder()\n",
    "    dataset['climateregions__climateregion'] = encode.fit_transform(dataset['climateregions__climateregion'])\n",
    "    print('categorical data encoded')\n",
    "    return dataset\n",
    "\n",
    "### location data handling (round \"lat\" and \"lon\")\n",
    "def location_data_handle(dataset , round_to):\n",
    "    dataset.loc[: ,'lat'] = round(dataset.loc[:,'lat'], round_to)\n",
    "    dataset.loc[: , 'lon'] = round(dataset.loc[: , 'lon'] , round_to)\n",
    "    print('location data handled')\n",
    "    return dataset\n",
    "\n",
    "\n",
    "### calculate missing value with mean\n",
    "def na_imputer(dataset):\n",
    "    df = dataset.copy()\n",
    "    df = df.sort_values(by = ['lat', 'lon' , 'startdate'])\n",
    "    imputer = SimpleImputer(missing_values=np.nan, strategy='mean')\n",
    "    for col in dataset.columns:\n",
    "        if dataset[col].dtypes != \"O\":\n",
    "            if dataset[col].dtypes != np.dtype('<M8[ns]'):            \n",
    "                df[col] = imputer.fit_transform(dataset.loc[ : , col].values.reshape(-1 ,1))\n",
    "        else:\n",
    "            continue\n",
    "    return df\n",
    "\n",
    "### handle na\n",
    "def handle_na(dataset , fill_type):\n",
    "    df = dataset.copy()\n",
    "    if fill_type == 'f':\n",
    "        df = dataset.sort_values(['lat' , 'lon' , 'startdate']).ffill()\n",
    "    elif fill_type == 'b':\n",
    "        df = dataset.sort_values(['lat' , 'lon' , 'startdate']).ffill()\n",
    "    else:\n",
    "        if fill_type == 'mean':\n",
    "            df = na_imputer(dataset)\n",
    "        else:\n",
    "            return df\n",
    "    return df\n",
    "\n",
    "### handle datatime (column startdate)\n",
    "def handle_datetime(dataset):\n",
    "    df = dataset.copy()\n",
    "    df['year'] = dataset['startdate'].dt.year\n",
    "    df['month'] = dataset['startdate'].dt.month\n",
    "    df['day'] = dataset['startdate'].dt.dayofyear\n",
    "    print('datetime handled')\n",
    "    return df\n",
    "\n",
    "### split predictor and predicted\n",
    "def x_y_split(dataset , target_column):\n",
    "    x = dataset[[col for col in dataset.columns if col != target_column]]\n",
    "    y = dataset[target_column]\n",
    "    return x , y\n",
    "\n",
    "\n",
    "\n",
    "### preprocess data function\n",
    "def preprocess_data(dataset , round_to_which_digit , fill_type , target_column):\n",
    "    \n",
    "    temp_df = dataset.copy()\n",
    "    temp_df = set_index_and_to_dt(temp_df) ### set index and convert datetime\n",
    "    \n",
    "    try:\n",
    "        temp_df , y = x_y_split(temp_df , target_column)\n",
    "    except:\n",
    "        pass\n",
    "    \n",
    "    temp_df = encode_categorical_data(temp_df) ### categorical data encoding\n",
    "    temp_df = location_data_handle(temp_df , round_to_which_digit) ### longtitude and latitude handling\n",
    "    temp_df = handle_na(temp_df , fill_type) ### handle na\n",
    "    temp_df = handle_datetime(temp_df) ### create year, month, day\n",
    "    \n",
    "    temp_df = temp_df.drop(['startdate'] , axis = 1) ### drop processed column\n",
    "    \n",
    "    try:\n",
    "        temp_df = temp_df.merge(y , left_index = True, right_index = True) ### merge y value back\n",
    "    except:\n",
    "        pass\n",
    "    return temp_df"
   ]
  },
  {
   "cell_type": "markdown",
   "metadata": {},
   "source": []
  },
  {
   "cell_type": "markdown",
   "metadata": {},
   "source": [
    "### preprocessing"
   ]
  },
  {
   "cell_type": "code",
   "execution_count": 26,
   "metadata": {},
   "outputs": [],
   "source": [
    "### target column\n",
    "target = 'contest-tmp2m-14d__tmp2m'"
   ]
  },
  {
   "cell_type": "code",
   "execution_count": 37,
   "metadata": {},
   "outputs": [
    {
     "name": "stdout",
     "output_type": "stream",
     "text": [
      "index and datetime set\n",
      "categorical data encoded\n",
      "location data handled\n",
      "datetime handled\n"
     ]
    }
   ],
   "source": [
    "### preprocess training data -> rounding lat , lon to 4th + filling na using \"mean\"\n",
    "pro_train = preprocess_data(train , 4 , \"mean\" , target)"
   ]
  },
  {
   "cell_type": "code",
   "execution_count": null,
   "metadata": {},
   "outputs": [],
   "source": []
  },
  {
   "cell_type": "code",
   "execution_count": 41,
   "metadata": {},
   "outputs": [],
   "source": [
    "### split the data\n",
    "X = train[[col for col in train.columns if col != target]]\n",
    "y = train[target]\n",
    "\n",
    "x_train, x_test, y_train, y_test = train_test_split(X, y, test_size = 0.3, random_state = 123)\n"
   ]
  },
  {
   "cell_type": "code",
   "execution_count": null,
   "metadata": {},
   "outputs": [],
   "source": [
    "### train the model - XGBoost\n",
    "model_xgb = xgb.XGBRegressor(booster = 'gbtree',\n",
    "                             subsample = 0.8,\n",
    "                             eta = 0.1, \n",
    "                             n_estimaters = 15000,\n",
    "                             colsample_bytree = 0.4,\n",
    "                             max_depth = 4,\n",
    "                             tree_method = 'hist',\n",
    "                             eval_metric = 'rmse', \n",
    "                             objective = 'reg:squarederror')\n",
    "\n",
    "model_xgb.fit(x_train, y_train, eval_set = [(x_train, y_train), (x_test, y_test)], verbose = 100)"
   ]
  },
  {
   "cell_type": "code",
   "execution_count": null,
   "metadata": {},
   "outputs": [],
   "source": [
    "### use RMSE to evaluate\n",
    "y_pred_xgb = model_xgb.predict(x_test)\n",
    "mse = mean_squared_error(y_pred_xgb, y_test)\n",
    "\n",
    "print(\"MSE : \" ,mse)\n",
    "\n",
    "### save model\n",
    "model_xgb.save_model(\"./models/model_mean_fill.json\")"
   ]
  },
  {
   "cell_type": "code",
   "execution_count": null,
   "metadata": {},
   "outputs": [],
   "source": []
  },
  {
   "cell_type": "code",
   "execution_count": null,
   "metadata": {},
   "outputs": [],
   "source": [
    "### train the model - CatBoost\n",
    "model_cat = CatBoostRegressor(n_estimators = 15000,\n",
    "                              eval_metric = 'RMSE',\n",
    "                              learning_rate = 0.1, \n",
    "                              verbose = 1,\n",
    "                              random_seed = 0).fit(x_train, y_train)\n",
    "\n",
    "model_cat.fit(x_train, y_train, eval_set = [(x_train, y_train), (x_test, y_test)], verbose = 50)"
   ]
  },
  {
   "cell_type": "code",
   "execution_count": null,
   "metadata": {},
   "outputs": [],
   "source": [
    "### use RMSE to evaluate\n",
    "y_pred_cat = model_cat.predict(x_test)\n",
    "mean_squared_error(y_pred_cat, y_test)"
   ]
  },
  {
   "cell_type": "code",
   "execution_count": null,
   "metadata": {},
   "outputs": [],
   "source": [
    "### ensemble the results\n",
    "result = model_xgb.predict(X_test) * 0.2 + model_cat.predict(X_test) * 0.8\n",
    "result"
   ]
  },
  {
   "cell_type": "code",
   "execution_count": null,
   "metadata": {},
   "outputs": [],
   "source": [
    "# print out the result\n",
    "submit[target] = result\n",
    "submit.to_csv('submission.csv', index = False)"
   ]
  }
 ],
 "metadata": {
  "kernelspec": {
   "display_name": "Python 3 (ipykernel)",
   "language": "python",
   "name": "python3"
  },
  "language_info": {
   "codemirror_mode": {
    "name": "ipython",
    "version": 3
   },
   "file_extension": ".py",
   "mimetype": "text/x-python",
   "name": "python",
   "nbconvert_exporter": "python",
   "pygments_lexer": "ipython3",
   "version": "3.9.6"
  }
 },
 "nbformat": 4,
 "nbformat_minor": 2
}
