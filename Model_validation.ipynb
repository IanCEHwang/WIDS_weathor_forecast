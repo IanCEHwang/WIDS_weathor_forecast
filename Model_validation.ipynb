{
 "cells": [
  {
   "cell_type": "code",
   "execution_count": 1,
   "metadata": {},
   "outputs": [],
   "source": [
    "import pandas as pd\n",
    "import numpy as np\n",
    "import matplotlib.pyplot as plt\n",
    "import seaborn as sns\n",
    "import datetime as dt\n",
    "import os\n",
    "\n",
    "from sklearn import preprocessing\n",
    "from sklearn.metrics import mean_squared_error\n",
    "from sklearn.preprocessing import LabelBinarizer\n",
    "from sklearn.preprocessing import MinMaxScaler\n",
    "from sklearn.model_selection import train_test_split\n",
    "from sklearn.decomposition import PCA\n",
    "from sklearn.model_selection import GridSearchCV\n",
    "from sklearn.impute import SimpleImputer\n",
    "\n",
    "from catboost import CatBoostRegressor\n",
    "from catboost import Pool, CatBoostClassifier\n",
    "import catboost\n",
    "\n",
    "import xgboost as xgb\n",
    "import prepro_util"
   ]
  },
  {
   "cell_type": "code",
   "execution_count": 2,
   "metadata": {},
   "outputs": [],
   "source": [
    "### read test data\n",
    "test = pd.read_csv('../../../Desktop/wids/test_data.csv')"
   ]
  },
  {
   "cell_type": "code",
   "execution_count": 3,
   "metadata": {},
   "outputs": [],
   "source": [
    "### target column\n",
    "target = 'contest-tmp2m-14d__tmp2m'"
   ]
  },
  {
   "cell_type": "code",
   "execution_count": 4,
   "metadata": {
    "scrolled": false
   },
   "outputs": [
    {
     "name": "stdout",
     "output_type": "stream",
     "text": [
      "index and datetime set\n",
      "location data handled\n",
      "datetime handled\n"
     ]
    }
   ],
   "source": [
    "### test data\n",
    "pre_test = prepro_util.preprocess_data(test , 4 , \"mean\" , \"\")"
   ]
  },
  {
   "cell_type": "markdown",
   "metadata": {},
   "source": [
    "## CAT predict"
   ]
  },
  {
   "cell_type": "code",
   "execution_count": 19,
   "metadata": {},
   "outputs": [],
   "source": [
    "cat_models = os.listdir('./CATboost/models/')\n",
    "cat_models = [model for model in cat_models if '.json' in model]"
   ]
  },
  {
   "cell_type": "code",
   "execution_count": 20,
   "metadata": {},
   "outputs": [],
   "source": [
    "result_df_list = []"
   ]
  },
  {
   "cell_type": "code",
   "execution_count": 21,
   "metadata": {},
   "outputs": [],
   "source": [
    "for model in cat_models:\n",
    "    temp_model = catboost.CatBoostClassifier()\n",
    "    temp = temp_model.load_model(f\"./CATboost/models/{model}\")\n",
    "    cat_predict_y = temp_model.predict(pre_test , prediction_type = 'RawFormulaVal' ,)\n",
    "\n",
    "    result = test.copy()\n",
    "    result[target] = cat_predict_y\n",
    "    result = result.reset_index()\n",
    "    result = pd.DataFrame(result[['index' , target]] , columns = ['index' , target])\n",
    "    result_df_list.append(result)"
   ]
  },
  {
   "cell_type": "code",
   "execution_count": 22,
   "metadata": {},
   "outputs": [],
   "source": [
    "for df in range(0 , len(result_df_list)):\n",
    "    result_df_list[df].to_csv(f\"./output/{cat_models[df]}.csv\" , index = False)"
   ]
  },
  {
   "cell_type": "code",
   "execution_count": null,
   "metadata": {},
   "outputs": [],
   "source": []
  },
  {
   "cell_type": "code",
   "execution_count": null,
   "metadata": {},
   "outputs": [],
   "source": []
  },
  {
   "cell_type": "code",
   "execution_count": null,
   "metadata": {},
   "outputs": [],
   "source": []
  },
  {
   "cell_type": "markdown",
   "metadata": {},
   "source": [
    "## XGB predict"
   ]
  },
  {
   "cell_type": "code",
   "execution_count": null,
   "metadata": {},
   "outputs": [],
   "source": [
    "xgb_model = xgb.Booster()\n",
    "xgb_model.load_model(\"./models/XGB_mean_fill_max_depth_5.json\")"
   ]
  },
  {
   "cell_type": "code",
   "execution_count": null,
   "metadata": {},
   "outputs": [],
   "source": [
    "test_dataset = xgb.DMatrix(pre_test)\n",
    "predict_y = xgb_model.predict(test_dataset)"
   ]
  },
  {
   "cell_type": "code",
   "execution_count": null,
   "metadata": {},
   "outputs": [],
   "source": [
    "xgb_result = test.copy()\n",
    "xgb_result[target] = predict_y\n",
    "xgb_result = xgb_result.reset_index()"
   ]
  },
  {
   "cell_type": "code",
   "execution_count": null,
   "metadata": {},
   "outputs": [],
   "source": [
    "xgb_result = pd.DataFrame(xgb_result[['index' , target]] , columns = ['index' , target])"
   ]
  },
  {
   "cell_type": "code",
   "execution_count": null,
   "metadata": {},
   "outputs": [],
   "source": [
    "### create directory\n",
    "try:\n",
    "    os.makedirs(\"output\")\n",
    "except:\n",
    "    pass\n",
    "\n",
    "xgb_result.to_csv(\"./output/xgboost_mean_fill_maxD_5.csv\" , index = False)"
   ]
  }
 ],
 "metadata": {
  "kernelspec": {
   "display_name": "Python 3 (ipykernel)",
   "language": "python",
   "name": "python3"
  },
  "language_info": {
   "codemirror_mode": {
    "name": "ipython",
    "version": 3
   },
   "file_extension": ".py",
   "mimetype": "text/x-python",
   "name": "python",
   "nbconvert_exporter": "python",
   "pygments_lexer": "ipython3",
   "version": "3.9.6"
  }
 },
 "nbformat": 4,
 "nbformat_minor": 2
}
